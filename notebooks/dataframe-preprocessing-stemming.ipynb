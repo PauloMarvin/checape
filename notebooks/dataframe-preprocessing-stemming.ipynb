{
 "cells": [
  {
   "cell_type": "code",
   "execution_count": 1,
   "id": "3c81cf22-8b88-4d27-bd9a-7c781820d741",
   "metadata": {},
   "outputs": [],
   "source": [
    "import sys\n",
    "import spacy\n",
    "import numpy as np\n",
    "import pandas as pd"
   ]
  },
  {
   "cell_type": "code",
   "execution_count": 2,
   "id": "d19b062a-c948-4db2-ab64-0d36668659a7",
   "metadata": {},
   "outputs": [],
   "source": [
    "sys.path.append(\"..\")"
   ]
  },
  {
   "cell_type": "code",
   "execution_count": 3,
   "id": "588c3884-6a55-40d8-9973-8c43e50379ea",
   "metadata": {},
   "outputs": [],
   "source": [
    "from src.deployment.EDA_module import *\n",
    "from src.data.data_cleaning_module import *"
   ]
  },
  {
   "cell_type": "code",
   "execution_count": 4,
   "id": "bc2bb8b8-45f3-42a8-88cb-fa79b97a07bb",
   "metadata": {},
   "outputs": [],
   "source": [
    "stopwords = pd.read_csv(\"../data/no-theme-tweets/stopwords.csv\", delimiter = \",\");"
   ]
  },
  {
   "cell_type": "markdown",
   "id": "2c2cfded-5d26-4bbc-a937-393c47df9f11",
   "metadata": {},
   "source": [
    "## leitura dos dados limpos"
   ]
  },
  {
   "cell_type": "code",
   "execution_count": 6,
   "id": "7713d464-643f-4864-a7da-f7c0e8550c12",
   "metadata": {},
   "outputs": [],
   "source": [
    "df = pd.read_csv(\"../data/no-theme-tweets/clean_tweets.csv\", delimiter = \",\");"
   ]
  },
  {
   "cell_type": "markdown",
   "id": "f0bcbddd-2564-4a84-9fdc-2ce2c0e2da48",
   "metadata": {},
   "source": [
    "### remoção de stopwords"
   ]
  },
  {
   "cell_type": "code",
   "execution_count": 8,
   "id": "6bae535b-f2c4-45f3-8e79-a3032d55c452",
   "metadata": {},
   "outputs": [],
   "source": [
    "no_stopwords_tweets = df.tweet_text.apply(lambda y: remover_stop_words(y, stopwords));"
   ]
  },
  {
   "cell_type": "markdown",
   "id": "34aa348b-188f-4b64-9a7d-5655109460d1",
   "metadata": {},
   "source": [
    "### Stemming apos remover stopwords"
   ]
  },
  {
   "cell_type": "code",
   "execution_count": 13,
   "id": "b1ddaf07-b512-4217-8d08-233df585f85e",
   "metadata": {},
   "outputs": [],
   "source": [
    "# texto sem as stopwords e com stemming\n",
    "stemming_text_without_stopwords = [stemming(x) for x in no_stopwords_tweets]"
   ]
  },
  {
   "cell_type": "markdown",
   "id": "686f91f9-e3cd-49d6-9e9b-804a9a4fef53",
   "metadata": {
    "tags": []
   },
   "source": [
    "## Salvando os dados e liberando memória"
   ]
  },
  {
   "cell_type": "code",
   "execution_count": 15,
   "id": "f395426a-4314-445b-ad8f-317cedb7f016",
   "metadata": {},
   "outputs": [],
   "source": [
    "# criando o dataframe\n",
    "df_sem_stopwords_stemming = pd.DataFrame({\"tweet_text\": stemming_text_without_stopwords,\n",
    "                                 \"tweet_date\": df.tweet_date,\n",
    "                                 \"sentiment\": df.sentiment})\n",
    "\n",
    "# salvando\n",
    "df_sem_stopwords_stemming.to_csv(\"../data/no-theme-tweets/tweet_stemming_sem_stopwords.csv\",\n",
    "                                 sep=\",\", index=False)\n",
    "\n",
    "# deletendo dados inuteis e liberando memória\n",
    "del df_sem_stopwords_stemming, stemming_text_without_stopwords"
   ]
  },
  {
   "cell_type": "markdown",
   "id": "7e4d9c34-996f-4cac-aae2-8bcc24ae4601",
   "metadata": {},
   "source": [
    "## Steming sem remover as stopwords"
   ]
  },
  {
   "cell_type": "code",
   "execution_count": 16,
   "id": "152c2e31-bf72-4bfc-b63a-885ed04073c5",
   "metadata": {},
   "outputs": [],
   "source": [
    "# aplicando o stemming no texto sem remover as stopwords\n",
    "stemming_text_with_stopwords = [stemming(x) for x in df.tweet_text]"
   ]
  },
  {
   "cell_type": "code",
   "execution_count": 17,
   "id": "c224b85a-1ddc-4653-8254-4a964190c11a",
   "metadata": {},
   "outputs": [],
   "source": [
    "#criando o dataframe\n",
    "df_com_stopwords_stemming = pd.DataFrame({\"tweet_text\": stemming_text_with_stopwords,\n",
    "                                 \"tweet_date\": df.tweet_date,\n",
    "                                 \"sentiment\": df.sentiment})\n",
    "\n",
    "# salvando os dados   \n",
    "df_com_stopwords_stemming.to_csv(\"../data/no-theme-tweets/tweet_stemming_com_stopwords.csv\",\n",
    "                                 sep=\",\", index=False)\n",
    "\n",
    "# deletendo dados inuteis\n",
    "del df_com_stopwords_stemming, stemming_text_with_stopwords"
   ]
  }
 ],
 "metadata": {
  "kernelspec": {
   "display_name": "Python 3 (ipykernel)",
   "language": "python",
   "name": "python3"
  },
  "language_info": {
   "codemirror_mode": {
    "name": "ipython",
    "version": 3
   },
   "file_extension": ".py",
   "mimetype": "text/x-python",
   "name": "python",
   "nbconvert_exporter": "python",
   "pygments_lexer": "ipython3",
   "version": "3.8.10"
  }
 },
 "nbformat": 4,
 "nbformat_minor": 5
}

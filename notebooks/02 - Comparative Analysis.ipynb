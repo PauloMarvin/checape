{
 "cells": [
  {
   "cell_type": "code",
   "execution_count": 37,
   "id": "0a9d945a-b822-4070-a5b7-e337c83c850c",
   "metadata": {},
   "outputs": [
    {
     "name": "stderr",
     "output_type": "stream",
     "text": [
      "[nltk_data] Downloading package stopwords to /home/madson/nltk_data...\n",
      "[nltk_data]   Package stopwords is already up-to-date!\n"
     ]
    },
    {
     "data": {
      "text/plain": [
       "True"
      ]
     },
     "execution_count": 37,
     "metadata": {},
     "output_type": "execute_result"
    }
   ],
   "source": [
    "import pandas as pd\n",
    "from sklearn.feature_extraction.text import CountVectorizer\n",
    "import nltk\n",
    "from sklearn.decomposition import TruncatedSVD\n",
    "from sklearn.neighbors import KNeighborsClassifier\n",
    "from sklearn.metrics import accuracy_score\n",
    "from sklearn.pipeline import Pipeline\n",
    "\n",
    "nltk.download('stopwords')"
   ]
  },
  {
   "cell_type": "code",
   "execution_count": 2,
   "id": "79285eca-d73c-4258-a24c-93101f1bcee9",
   "metadata": {},
   "outputs": [],
   "source": [
    "df = pd.read_csv(\"../data/raw/NoThemeTweets.csv\", usecols=[\"tweet_text\", \"sentiment\"]).sample(10000)"
   ]
  },
  {
   "cell_type": "code",
   "execution_count": 3,
   "id": "45f3f48c-c8fa-4c21-ba89-161b5992cb8b",
   "metadata": {},
   "outputs": [],
   "source": [
    "corpus = df.tweet_text.to_list()\n",
    "labels = df.sentiment.replace({\"Positivo\": 1, \"Negativo\": 0}).to_list()\n",
    "stop_words = (\n",
    "    nltk.corpus.stopwords.words('portuguese') + \n",
    "    ['https'] + ['co']\n",
    ")"
   ]
  },
  {
   "cell_type": "code",
   "execution_count": 39,
   "id": "2a6661ef-f76d-477f-8b8d-c2ca4bf2a3d8",
   "metadata": {},
   "outputs": [],
   "source": [
    "pipeline = Pipeline(steps=[\n",
    "    (\"vectorizer\", CountVectorizer(stop_words=stop_words, max_features=1000)),\n",
    "    (\"pca\", TruncatedSVD(500)),\n",
    "    (\"clf\", KNeighborsClassifier(n_neighbors=11))\n",
    "])"
   ]
  },
  {
   "cell_type": "code",
   "execution_count": 40,
   "id": "05f42487-c822-4e5f-b13f-990b8d292df8",
   "metadata": {},
   "outputs": [
    {
     "data": {
      "text/plain": [
       "Pipeline(steps=[('vectorizer',\n",
       "                 CountVectorizer(max_features=1000,\n",
       "                                 stop_words=['de', 'a', 'o', 'que', 'e', 'é',\n",
       "                                             'do', 'da', 'em', 'um', 'para',\n",
       "                                             'com', 'não', 'uma', 'os', 'no',\n",
       "                                             'se', 'na', 'por', 'mais', 'as',\n",
       "                                             'dos', 'como', 'mas', 'ao', 'ele',\n",
       "                                             'das', 'à', 'seu', 'sua', ...])),\n",
       "                ('pca', TruncatedSVD(n_components=500)),\n",
       "                ('clf', KNeighborsClassifier(n_neighbors=11))])"
      ]
     },
     "execution_count": 40,
     "metadata": {},
     "output_type": "execute_result"
    }
   ],
   "source": [
    "pipeline.fit(corpus, labels)"
   ]
  },
  {
   "cell_type": "code",
   "execution_count": 42,
   "id": "d48cbfaa-6878-4213-83b3-4c0cee16b3fd",
   "metadata": {},
   "outputs": [],
   "source": [
    "y_hat = pipeline.predict(corpus)"
   ]
  },
  {
   "cell_type": "code",
   "execution_count": 43,
   "id": "6b4478eb-e530-4a30-8eb4-8e713414fd61",
   "metadata": {},
   "outputs": [
    {
     "data": {
      "text/plain": [
       "0.7412"
      ]
     },
     "execution_count": 43,
     "metadata": {},
     "output_type": "execute_result"
    }
   ],
   "source": [
    "accuracy_score(labels, y_hat)"
   ]
  },
  {
   "cell_type": "code",
   "execution_count": 38,
   "id": "c2540a76-3869-4529-a506-72aacf0a10a9",
   "metadata": {},
   "outputs": [],
   "source": []
  },
  {
   "cell_type": "code",
   "execution_count": null,
   "id": "d5d7872e-c3d4-4789-9623-ad8873e39986",
   "metadata": {},
   "outputs": [],
   "source": []
  }
 ],
 "metadata": {
  "kernelspec": {
   "display_name": "Python 3 (ipykernel)",
   "language": "python",
   "name": "python3"
  },
  "language_info": {
   "codemirror_mode": {
    "name": "ipython",
    "version": 3
   },
   "file_extension": ".py",
   "mimetype": "text/x-python",
   "name": "python",
   "nbconvert_exporter": "python",
   "pygments_lexer": "ipython3",
   "version": "3.8.10"
  }
 },
 "nbformat": 4,
 "nbformat_minor": 5
}

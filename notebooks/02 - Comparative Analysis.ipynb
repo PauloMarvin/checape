{
 "cells": [
  {
   "cell_type": "code",
   "execution_count": 1,
   "id": "0a9d945a-b822-4070-a5b7-e337c83c850c",
   "metadata": {},
   "outputs": [
    {
     "name": "stderr",
     "output_type": "stream",
     "text": [
      "[nltk_data] Downloading package stopwords to /home/marvin-\n",
      "[nltk_data]     linux/nltk_data...\n",
      "[nltk_data]   Package stopwords is already up-to-date!\n"
     ]
    },
    {
     "data": {
      "text/plain": [
       "True"
      ]
     },
     "execution_count": 1,
     "metadata": {},
     "output_type": "execute_result"
    }
   ],
   "source": [
    "import pandas as pd\n",
    "import nltk\n",
    "from sklearn.feature_extraction.text import CountVectorizer, TfidfVectorizer\n",
    "from sklearn.decomposition import TruncatedSVD\n",
    "from sklearn.neighbors import KNeighborsClassifier\n",
    "from sklearn.metrics import accuracy_score\n",
    "from sklearn.pipeline import Pipeline\n",
    "from sklearn.naive_bayes import MultinomialNB\n",
    "from sklearn.model_selection import ShuffleSplit, cross_validate\n",
    "from sklearn.model_selection import cross_val_predict, cross_val_score\n",
    "from sklearn import metrics\n",
    "\n",
    "from sklearn import svm\n",
    "\n",
    "nltk.download(\"stopwords\")\n"
   ]
  },
  {
   "cell_type": "markdown",
   "id": "5c5510de",
   "metadata": {},
   "source": [
    "### Carregar o dataframe"
   ]
  },
  {
   "cell_type": "code",
   "execution_count": 2,
   "id": "79285eca-d73c-4258-a24c-93101f1bcee9",
   "metadata": {},
   "outputs": [
    {
     "data": {
      "text/plain": [
       "(30000, 2)"
      ]
     },
     "execution_count": 2,
     "metadata": {},
     "output_type": "execute_result"
    }
   ],
   "source": [
    "df = pd.read_csv(\n",
    "    \"../data/raw/NoThemeTweets.csv\", usecols=[\"tweet_text\", \"sentiment\"]\n",
    ").sample(30000)\n",
    "\n",
    "\n",
    "df.shape\n"
   ]
  },
  {
   "cell_type": "code",
   "execution_count": 3,
   "id": "45f3f48c-c8fa-4c21-ba89-161b5992cb8b",
   "metadata": {},
   "outputs": [],
   "source": [
    "corpus_train = df.tweet_text[2000:].to_list()\n",
    "labels_train = df.sentiment[2000:].replace({\"Positivo\": 1, \"Negativo\": 0}).to_list()\n",
    "\n",
    "\n",
    "corpus_test = df.tweet_text[:2000].to_list()\n",
    "labels_test = df.sentiment[:2000].replace({\"Positivo\": 1, \"Negativo\": 0}).to_list()\n",
    "\n",
    "stop_words = nltk.corpus.stopwords.words(\"portuguese\") + [\"https\"] + [\"co\"]\n",
    "\n"
   ]
  },
  {
   "cell_type": "code",
   "execution_count": 4,
   "id": "2a6661ef-f76d-477f-8b8d-c2ca4bf2a3d8",
   "metadata": {},
   "outputs": [],
   "source": [
    "from nltk.tokenize import TweetTokenizer\n",
    "\n",
    "tweet_tokenizer = TweetTokenizer()\n",
    "\n",
    "pipeline = Pipeline(\n",
    "    steps=[\n",
    "        (\n",
    "            \"vectorizer\",\n",
    "            CountVectorizer(analyzer=\"word\", stop_words=stop_words, max_features=1000),\n",
    "        ),\n",
    "        (\"pca\", TruncatedSVD(500)),\n",
    "        (\"clf\", KNeighborsClassifier(n_neighbors=11)),\n",
    "    ]\n",
    ")\n",
    "\n",
    "pipeline2 = Pipeline(\n",
    "    steps=[\n",
    "        (\n",
    "            \"vectorizer\",\n",
    "            CountVectorizer(\n",
    "                analyzer=\"word\",\n",
    "                stop_words=stop_words,\n",
    "                max_features=1000,\n",
    "                tokenizer=tweet_tokenizer.tokenize,\n",
    "            ),\n",
    "        ),\n",
    "        (\"pca\", TruncatedSVD(500)),\n",
    "        (\"clf\", KNeighborsClassifier(n_neighbors=11)),\n",
    "    ]\n",
    ")\n",
    "\n",
    "\n",
    "pipeline3 = Pipeline(\n",
    "    steps=[\n",
    "        (\n",
    "            \"vectorizer\",\n",
    "            CountVectorizer(\n",
    "                analyzer=\"word\",\n",
    "                stop_words=stop_words,\n",
    "                max_features=1000,\n",
    "                tokenizer=tweet_tokenizer.tokenize,\n",
    "            ),\n",
    "        ),\n",
    "        (\"clf\", MultinomialNB()),\n",
    "    ]\n",
    ")\n",
    "\n",
    "\n",
    "\n",
    "\n",
    "pipeline4 = Pipeline(\n",
    "    steps=[\n",
    "        (\n",
    "            \"vectorizer\",\n",
    "            CountVectorizer(\n",
    "                analyzer=\"word\",\n",
    "                stop_words=stop_words,\n",
    "                max_features=1000,\n",
    "                tokenizer=tweet_tokenizer.tokenize,\n",
    "            ),\n",
    "        ),\n",
    "        (\"clf\", svm.SVC(kernel='linear')),\n",
    "    ]\n",
    ")\n"
   ]
  },
  {
   "cell_type": "code",
   "execution_count": 5,
   "id": "05f42487-c822-4e5f-b13f-990b8d292df8",
   "metadata": {},
   "outputs": [
    {
     "data": {
      "text/plain": [
       "Pipeline(steps=[('vectorizer',\n",
       "                 CountVectorizer(max_features=1000,\n",
       "                                 stop_words=['de', 'a', 'o', 'que', 'e', 'é',\n",
       "                                             'do', 'da', 'em', 'um', 'para',\n",
       "                                             'com', 'não', 'uma', 'os', 'no',\n",
       "                                             'se', 'na', 'por', 'mais', 'as',\n",
       "                                             'dos', 'como', 'mas', 'ao', 'ele',\n",
       "                                             'das', 'à', 'seu', 'sua', ...],\n",
       "                                 tokenizer=<bound method TweetTokenizer.tokenize of <nltk.tokenize.casual.TweetTokenizer object at 0x7f4328d1f5b0>>)),\n",
       "                ('clf', SVC(kernel='linear'))])"
      ]
     },
     "execution_count": 5,
     "metadata": {},
     "output_type": "execute_result"
    }
   ],
   "source": [
    "pipeline.fit(corpus_train, labels_train)\n",
    "pipeline2.fit(corpus_train, labels_train)\n",
    "pipeline3.fit(corpus_train, labels_train)\n",
    "pipeline4.fit(corpus_train, labels_train)\n"
   ]
  },
  {
   "cell_type": "code",
   "execution_count": 6,
   "id": "6580cedd",
   "metadata": {},
   "outputs": [],
   "source": [
    "# pipeline3.fit(corpus_train, labels_train)\n",
    "# y_hat3 = pipeline3.predict(corpus_test)\n",
    "# y_hat3"
   ]
  },
  {
   "cell_type": "code",
   "execution_count": 7,
   "id": "d48cbfaa-6878-4213-83b3-4c0cee16b3fd",
   "metadata": {},
   "outputs": [],
   "source": [
    "y_hat = pipeline.predict(corpus_test)\n",
    "y_hat2 = pipeline2.predict(corpus_test)\n",
    "y_hat3 = pipeline3.predict(corpus_test)\n",
    "y_hat4 = pipeline4.predict(corpus_test)\n",
    "\n"
   ]
  },
  {
   "cell_type": "code",
   "execution_count": 8,
   "id": "6b4478eb-e530-4a30-8eb4-8e713414fd61",
   "metadata": {},
   "outputs": [
    {
     "data": {
      "text/plain": [
       "0.6635"
      ]
     },
     "execution_count": 8,
     "metadata": {},
     "output_type": "execute_result"
    }
   ],
   "source": [
    "accuracy_score(labels_test, y_hat)\n"
   ]
  },
  {
   "cell_type": "code",
   "execution_count": 9,
   "id": "c2540a76-3869-4529-a506-72aacf0a10a9",
   "metadata": {},
   "outputs": [
    {
     "data": {
      "text/plain": [
       "0.9935"
      ]
     },
     "execution_count": 9,
     "metadata": {},
     "output_type": "execute_result"
    }
   ],
   "source": [
    "accuracy_score(labels_test, y_hat2)\n"
   ]
  },
  {
   "cell_type": "code",
   "execution_count": 10,
   "id": "843da6c3",
   "metadata": {},
   "outputs": [
    {
     "data": {
      "text/plain": [
       "0.997"
      ]
     },
     "execution_count": 10,
     "metadata": {},
     "output_type": "execute_result"
    }
   ],
   "source": [
    "accuracy_score(labels_test, y_hat3)"
   ]
  },
  {
   "cell_type": "code",
   "execution_count": 11,
   "id": "9e826a19",
   "metadata": {},
   "outputs": [
    {
     "data": {
      "text/plain": [
       "0.9995"
      ]
     },
     "execution_count": 11,
     "metadata": {},
     "output_type": "execute_result"
    }
   ],
   "source": [
    "accuracy_score(labels_test, y_hat4)"
   ]
  },
  {
   "cell_type": "code",
   "execution_count": 12,
   "id": "01bf013e",
   "metadata": {},
   "outputs": [
    {
     "data": {
      "text/plain": [
       "<28000x1500 sparse matrix of type '<class 'numpy.int64'>'\n",
       "\twith 184854 stored elements in Compressed Sparse Row format>"
      ]
     },
     "execution_count": 12,
     "metadata": {},
     "output_type": "execute_result"
    }
   ],
   "source": [
    "from nltk.tokenize import TweetTokenizer\n",
    "\n",
    "tweet_tokenizer = TweetTokenizer()\n",
    "\n",
    "cv = CountVectorizer(analyzer=\"word\", stop_words=stop_words, max_features=1500, tokenizer=tweet_tokenizer.tokenize)\n",
    "\n",
    "freq_train = cv.fit_transform(corpus_train)\n",
    "\n",
    "\n",
    "freq_train"
   ]
  },
  {
   "cell_type": "code",
   "execution_count": 13,
   "id": "d5d7872e-c3d4-4789-9623-ad8873e39986",
   "metadata": {},
   "outputs": [
    {
     "data": {
      "text/plain": [
       "<28000x1500 sparse matrix of type '<class 'numpy.int64'>'\n",
       "\twith 184854 stored elements in Compressed Sparse Row format>"
      ]
     },
     "execution_count": 13,
     "metadata": {},
     "output_type": "execute_result"
    }
   ],
   "source": [
    "from sklearn.naive_bayes import MultinomialNB\n",
    "\n",
    "model = MultinomialNB()\n",
    "\n",
    "model.fit(freq_train, labels_train)\n",
    "\n",
    "model\n",
    "\n",
    "\n",
    "freq_train\n"
   ]
  },
  {
   "cell_type": "code",
   "execution_count": 14,
   "id": "0b39f7d4",
   "metadata": {},
   "outputs": [],
   "source": [
    "teste = [\n",
    "         \"Não é um bom dia para começar a programar\",\n",
    "         \"Estou ficando muito cansado\",\n",
    "         \"Não consigo fazer nada\",\n",
    "         \"Que dia lindo, hoje é dia de programar\",\n",
    "         \"É coisa, é coisa pura, é coisa maravilhosa\",\n",
    "         \"Bolsonaro é um cara horrível\",\n",
    "         \"Estou querendo morrer\",\n",
    "         \"Abençoa senhor a minha vida bolsonaro\",\n",
    "        ]\n",
    "\n",
    "\n",
    "\n",
    "\n",
    "\n",
    "\n",
    "\n",
    "\n",
    "# accuracy_score(labels, y_hat2)\n",
    "\n",
    "# for t, c in zip (teste,model.predict(teste)):\n",
    "#     print(t)\n",
    "\n",
    "\n",
    "\n",
    "# y_hat_tes"
   ]
  },
  {
   "cell_type": "code",
   "execution_count": 15,
   "id": "90c48f8f",
   "metadata": {},
   "outputs": [],
   "source": [
    "resultados = cross_val_predict(pipeline4, corpus_train, labels_train, cv=10)\n",
    "\n",
    "\n"
   ]
  },
  {
   "cell_type": "code",
   "execution_count": 16,
   "id": "cd8bd963",
   "metadata": {},
   "outputs": [],
   "source": [
    "resultados2 = cross_val_score(pipeline4, corpus_train, labels_train, cv=10)"
   ]
  },
  {
   "cell_type": "code",
   "execution_count": 17,
   "id": "fe6b9731",
   "metadata": {},
   "outputs": [
    {
     "data": {
      "text/plain": [
       "0.9983214285714286"
      ]
     },
     "execution_count": 17,
     "metadata": {},
     "output_type": "execute_result"
    }
   ],
   "source": [
    "metrics.accuracy_score(labels_train, resultados)"
   ]
  },
  {
   "cell_type": "code",
   "execution_count": 22,
   "id": "2aeac9fa",
   "metadata": {},
   "outputs": [],
   "source": [
    "resultados3 = cross_validate(pipeline4, corpus_train, labels_train, cv=10)"
   ]
  },
  {
   "cell_type": "code",
   "execution_count": null,
   "id": "f090c65e",
   "metadata": {},
   "outputs": [],
   "source": [
    "resultados3"
   ]
  }
 ],
 "metadata": {
  "kernelspec": {
   "display_name": "Python 3.8.10 ('src-zwQccrdW-py3.8')",
   "language": "python",
   "name": "python3"
  },
  "language_info": {
   "codemirror_mode": {
    "name": "ipython",
    "version": 3
   },
   "file_extension": ".py",
   "mimetype": "text/x-python",
   "name": "python",
   "nbconvert_exporter": "python",
   "pygments_lexer": "ipython3",
   "version": "3.8.10"
  },
  "vscode": {
   "interpreter": {
    "hash": "882c8c6501720d7339a894262ca6c76e47c685bc126574a2b14e77f6df77b0f4"
   }
  }
 },
 "nbformat": 4,
 "nbformat_minor": 5
}

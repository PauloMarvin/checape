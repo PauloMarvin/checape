{
 "cells": [
  {
   "cell_type": "code",
   "execution_count": 1,
   "id": "268e81f9-30a9-4572-8632-b13fd991adfd",
   "metadata": {},
   "outputs": [],
   "source": [
    "import sys\n",
    "import spacy\n",
    "import pandas as pd"
   ]
  },
  {
   "cell_type": "code",
   "execution_count": 2,
   "id": "de569d76-0e70-49a1-998a-80dca2f10428",
   "metadata": {},
   "outputs": [],
   "source": [
    "sys.path.append(\"..\");"
   ]
  },
  {
   "cell_type": "code",
   "execution_count": 3,
   "id": "701ab4ff-826a-4e9d-a36b-efa4fd83443b",
   "metadata": {},
   "outputs": [],
   "source": [
    "from src.deployment.EDA_module import *\n",
    "from src.data.data_cleaning_module import *"
   ]
  },
  {
   "cell_type": "code",
   "execution_count": 4,
   "id": "8453138f-4af1-4ad8-be0e-67e7fbf719fe",
   "metadata": {},
   "outputs": [],
   "source": [
    "# carregamento das stopwords\n",
    "stopwords = pd.read_csv(\"../data/no-theme-tweets/stopwords.csv\", delimiter = \",\")"
   ]
  },
  {
   "cell_type": "markdown",
   "id": "66c0ab0e-139f-41a7-b529-4e766ab4cdfe",
   "metadata": {},
   "source": [
    "### Leitura dos dados limpos"
   ]
  },
  {
   "cell_type": "code",
   "execution_count": 6,
   "id": "998ac343-d780-4e79-8f90-ce62283c5027",
   "metadata": {},
   "outputs": [],
   "source": [
    "df = pd.read_csv(\"../data/no-theme-tweets/clean_tweets.csv\", delimiter = \",\")"
   ]
  },
  {
   "cell_type": "markdown",
   "id": "a4dceece-871c-45f4-b5de-11bfbfaa14d7",
   "metadata": {},
   "source": [
    "### removendo stopwords dos tweets"
   ]
  },
  {
   "cell_type": "code",
   "execution_count": 7,
   "id": "15c08545-422c-43e1-9a39-e4128a3d5e6e",
   "metadata": {},
   "outputs": [],
   "source": [
    "texto_sem_stopwords = [remover_stop_words(x, stopwords) for x in df.tweet_text ]"
   ]
  },
  {
   "cell_type": "markdown",
   "id": "6a10e546-5255-4846-9dc9-c06d56c32f3e",
   "metadata": {},
   "source": [
    "<h1 style=\"color:blue\"> Lematização </h1>"
   ]
  },
  {
   "cell_type": "code",
   "execution_count": 8,
   "id": "f219385a-bf87-49bd-a0cb-018a03becb05",
   "metadata": {},
   "outputs": [],
   "source": [
    "# lematização nos tweets sem stopwords\n",
    "texto_sem_stopwords_lematizado = [lemmatizer(x) for x in texto_sem_stopwords]"
   ]
  },
  {
   "cell_type": "code",
   "execution_count": 9,
   "id": "14ce601f-5224-413f-afda-58ce5dd09a6b",
   "metadata": {},
   "outputs": [],
   "source": [
    "df_lematizado_sem_stopwords = pd.DataFrame({\"tweet_text\": texto_sem_stopwords_lematizado,\n",
    "                                 \"tweet_date\": df.tweet_date,\n",
    "                                 \"sentiment\": df.sentiment})\n",
    "\n",
    "df_lematizado_sem_stopwords.to_csv(\"../data/no-theme-tweets/tweet_lematizado_sem_stopwords.csv\",\n",
    "                        sep=\",\", index=False)\n",
    "\n",
    "# deletando dados inuteis\n",
    "del df_lematizado_sem_stopwords, texto_sem_stopwords_lematizado"
   ]
  },
  {
   "cell_type": "markdown",
   "id": "0bf8f911-6760-4da8-9d98-9961f09aaf14",
   "metadata": {},
   "source": [
    "### Lematizando os textos sem remover as stopwords"
   ]
  },
  {
   "cell_type": "code",
   "execution_count": 10,
   "id": "110aa5cf-2b61-4974-b655-21e91073dd46",
   "metadata": {},
   "outputs": [],
   "source": [
    "texto_com_stopwords_lematizado = [lemmatizer(x) for x in df.tweet_text]"
   ]
  },
  {
   "cell_type": "code",
   "execution_count": 12,
   "id": "aadb39ae-c3b1-49f1-b0cd-b479fd2cd5ac",
   "metadata": {},
   "outputs": [],
   "source": [
    "df_lematizado_com_stopwords = pd.DataFrame({\"tweet_text\": texto_com_stopwords_lematizado,\n",
    "                                 \"tweet_date\": df.tweet_date,\n",
    "                                 \"sentiment\": df.sentiment})\n",
    "\n",
    "df_lematizado_com_stopwords.to_csv(\"../data/no-theme-tweets/tweet_lematizado_com_stopwords.csv\",\n",
    "                        sep=\",\", index=False)\n",
    "\n",
    "# deletando dados inuteis\n",
    "del df_lematizado_com_stopwords, texto_com_stopwords_lematizado"
   ]
  }
 ],
 "metadata": {
  "kernelspec": {
   "display_name": "Python 3 (ipykernel)",
   "language": "python",
   "name": "python3"
  },
  "language_info": {
   "codemirror_mode": {
    "name": "ipython",
    "version": 3
   },
   "file_extension": ".py",
   "mimetype": "text/x-python",
   "name": "python",
   "nbconvert_exporter": "python",
   "pygments_lexer": "ipython3",
   "version": "3.8.10"
  }
 },
 "nbformat": 4,
 "nbformat_minor": 5
}

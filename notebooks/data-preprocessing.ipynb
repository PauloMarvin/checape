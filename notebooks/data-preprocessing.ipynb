{
 "cells": [
  {
   "cell_type": "markdown",
   "id": "2a2b49c2-1d31-4156-a867-55c5be2c7f40",
   "metadata": {},
   "source": [
    "# Preprocessamento de dados\n",
    "### Ao final desta etapa teremos 4 conjunto de dados de acordo com o esquema abaixo:"
   ]
  },
  {
   "cell_type": "markdown",
   "id": "38153b84-a0dc-428f-aabe-2d058a786a0c",
   "metadata": {},
   "source": [
    "<img src=\"https://user-images.githubusercontent.com/75253596/178109117-ed20f5d5-34c1-42da-a4f7-38d6ed688a07.png\" width=\"400\" height=\"600\">"
   ]
  },
  {
   "cell_type": "markdown",
   "id": "067fc160-8833-4ded-8d06-941de7e8ae9b",
   "metadata": {},
   "source": [
    "### imports"
   ]
  },
  {
   "cell_type": "markdown",
   "id": "90ace11a-9897-479e-9cec-6486e6248184",
   "metadata": {},
   "source": [
    "### loading data"
   ]
  },
  {
   "cell_type": "code",
   "execution_count": null,
   "id": "1bd09c0a-8d0b-45e6-af0d-462243ba5a7c",
   "metadata": {},
   "outputs": [],
   "source": []
  }
 ],
 "metadata": {
  "kernelspec": {
   "display_name": "Python 3 (ipykernel)",
   "language": "python",
   "name": "python3"
  },
  "language_info": {
   "codemirror_mode": {
    "name": "ipython",
    "version": 3
   },
   "file_extension": ".py",
   "mimetype": "text/x-python",
   "name": "python",
   "nbconvert_exporter": "python",
   "pygments_lexer": "ipython3",
   "version": "3.8.10"
  }
 },
 "nbformat": 4,
 "nbformat_minor": 5
}

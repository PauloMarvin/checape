{
 "cells": [
  {
   "cell_type": "code",
   "execution_count": 18,
   "id": "e9d2e102-2716-4d14-8e69-7bd87cbab7e0",
   "metadata": {},
   "outputs": [],
   "source": [
    "from sklearn.feature_extraction.text import CountVectorizer\n",
    "import seaborn as sns\n",
    "import pandas as pd\n",
    "import numpy as np\n",
    "import demoji\n",
    "import nltk\n",
    "import os"
   ]
  },
  {
   "cell_type": "code",
   "execution_count": null,
   "id": "0d8cb544-27a5-46cd-a957-15c2d6d34319",
   "metadata": {},
   "outputs": [],
   "source": [
    "nltk.download(\"rslp\")"
   ]
  },
  {
   "cell_type": "code",
   "execution_count": 5,
   "id": "f0433f17-b819-4920-aa92-e7344b5b1b9f",
   "metadata": {},
   "outputs": [],
   "source": [
    "from functions.data_cleaning_module import *"
   ]
  },
  {
   "cell_type": "markdown",
   "id": "ffa8a395-3f19-4a5c-aeaf-bde668c2ca41",
   "metadata": {},
   "source": [
    "### carregamento dos dados"
   ]
  },
  {
   "cell_type": "code",
   "execution_count": 6,
   "id": "2b09803f-ce9f-400d-aa8c-dd9950d27885",
   "metadata": {},
   "outputs": [],
   "source": [
    "df_negativo = pd.read_csv(\"../data/raw/coleta-negativo-1.csv\",\n",
    "                          delimiter=\"\\t\", on_bad_lines='skip', engine=\"python\")\n",
    "\n",
    "\n",
    "df_positivo = pd.read_csv(\"../data/raw/coleta-positivo-1.csv\",\n",
    "                          delimiter=\"\\t\", on_bad_lines='skip', engine=\"python\")"
   ]
  },
  {
   "cell_type": "code",
   "execution_count": 7,
   "id": "5c1580ee-96f4-45c9-b7ab-ad98eb8c3938",
   "metadata": {},
   "outputs": [
    {
     "name": "stdout",
     "output_type": "stream",
     "text": [
      "Tweets positivos:50012, tweets negativos: 14844\n"
     ]
    }
   ],
   "source": [
    " print(f\"Tweets positivos:{len(df_positivo)}, tweets negativos: {len(df_negativo)}\")"
   ]
  },
  {
   "cell_type": "markdown",
   "id": "235ab62d-26c8-4c7a-9622-86a1ad954177",
   "metadata": {},
   "source": [
    "### remocao de nulls"
   ]
  },
  {
   "cell_type": "code",
   "execution_count": 8,
   "id": "d24eab08-6a1f-4b0b-9f85-4c0e24109d7a",
   "metadata": {},
   "outputs": [],
   "source": [
    "df_positivo.dropna(inplace=True)\n",
    "df_negativo.dropna(inplace=True)"
   ]
  },
  {
   "cell_type": "markdown",
   "id": "35f81984-d432-400b-91a3-c8cc50dd49a8",
   "metadata": {},
   "source": [
    "## Limpeza dos tweets"
   ]
  },
  {
   "cell_type": "markdown",
   "id": "5ecb83c7-6b5e-487a-b166-60a5bc7a19bf",
   "metadata": {},
   "source": [
    "### remocao de emojis"
   ]
  },
  {
   "cell_type": "code",
   "execution_count": 9,
   "id": "a8c7b0da-6930-4305-9209-c7125e33b133",
   "metadata": {},
   "outputs": [],
   "source": [
    "df_negativo[\"tweet\"] = df_negativo[\"tweet\"].apply(lambda x: demoji.replace(x, \" \"))\n",
    "df_positivo[\"tweet\"] = df_positivo[\"tweet\"].apply(lambda x: demoji.replace(x, \" \"))"
   ]
  },
  {
   "cell_type": "markdown",
   "id": "5cba0f49-359d-4272-8936-5ea5c0a8a5c5",
   "metadata": {},
   "source": [
    "### remocao de menções e links"
   ]
  },
  {
   "cell_type": "code",
   "execution_count": 10,
   "id": "ce62d9fd-0dc5-4c3d-b8a9-8ca7cd9f6d36",
   "metadata": {},
   "outputs": [],
   "source": [
    "df_negativo[\"tweet\"] = df_negativo[\"tweet\"].apply(lambda x: limpa_texto(x))\n",
    "df_positivo[\"tweet\"] = df_positivo[\"tweet\"].apply(lambda x: limpa_texto(x))"
   ]
  },
  {
   "cell_type": "markdown",
   "id": "8fb1ebd9-1f7f-4bc0-9ebd-83508f5b97dd",
   "metadata": {},
   "source": [
    "### remocao de textos duplicados"
   ]
  },
  {
   "cell_type": "code",
   "execution_count": 11,
   "id": "4c73a56f-e7d2-4433-a516-9921fd3b668d",
   "metadata": {},
   "outputs": [],
   "source": [
    "df_negativo.drop_duplicates([\"tweet\"], inplace=True)\n",
    "df_positivo.drop_duplicates([\"tweet\"], inplace=True)"
   ]
  },
  {
   "cell_type": "markdown",
   "id": "b17637ef-0af3-4c75-a265-da14ed6e27a7",
   "metadata": {
    "tags": []
   },
   "source": [
    "### remocao das pontuações"
   ]
  },
  {
   "cell_type": "code",
   "execution_count": 12,
   "id": "3ed078a0-8c43-4a7b-b04c-4f0987ae3a16",
   "metadata": {},
   "outputs": [],
   "source": [
    "# removendo as pontuações\n",
    "df_positivo[\"tweet\"] = df_positivo[\"tweet\"].apply(lambda tweet: formatar_texto(texto=tweet))\n",
    "df_negativo[\"tweet\"] = df_negativo[\"tweet\"].apply(lambda tweet: formatar_texto(texto=tweet))"
   ]
  },
  {
   "cell_type": "markdown",
   "id": "810cab0b-a479-4467-aaa8-dbd70cc60b33",
   "metadata": {},
   "source": [
    "### Etiquetando os dados"
   ]
  },
  {
   "cell_type": "code",
   "execution_count": 13,
   "id": "6e6c8241-52dc-4a9b-aad7-6378f42fe3d7",
   "metadata": {},
   "outputs": [],
   "source": [
    "df_positivo[\"label\"] = \"positivo\"\n",
    "df_negativo[\"label\"] = \"negativo\""
   ]
  },
  {
   "cell_type": "markdown",
   "id": "85287c67-eb9f-48bf-a1fc-649863cae377",
   "metadata": {
    "tags": []
   },
   "source": [
    "### Alterando a referencia de Londres (UTC) para Brasilia (UTC -3h)"
   ]
  },
  {
   "cell_type": "code",
   "execution_count": 14,
   "id": "273ca229-10aa-406a-9f03-720d6217954b",
   "metadata": {},
   "outputs": [],
   "source": [
    "df_positivo.date.apply(lambda x: from_utc_to_local_time(x, -3));\n",
    "df_negativo.date.apply(lambda x: from_utc_to_local_time(x, -3));"
   ]
  },
  {
   "cell_type": "markdown",
   "id": "0d8fc141-2f9b-452f-b5db-a5d73f69c38a",
   "metadata": {},
   "source": [
    "### Obtenção do período do dia"
   ]
  },
  {
   "cell_type": "code",
   "execution_count": 15,
   "id": "b00c9cfc-86cd-4d67-bd46-3499c255816f",
   "metadata": {},
   "outputs": [],
   "source": [
    "df_positivo = df_positivo.assign(day_period = df_positivo.date.apply(\n",
    "    lambda x: get_period(pd.to_datetime(x).hour)))\n",
    "\n",
    "df_negativo = df_negativo.assign(day_period = df_negativo.date.apply(\n",
    "    lambda x: get_period(pd.to_datetime(x).hour)))"
   ]
  },
  {
   "cell_type": "code",
   "execution_count": 16,
   "id": "7ba2a6a0-53cf-4f04-8e46-79db0b0c42b3",
   "metadata": {},
   "outputs": [
    {
     "data": {
      "text/html": [
       "<div>\n",
       "<style scoped>\n",
       "    .dataframe tbody tr th:only-of-type {\n",
       "        vertical-align: middle;\n",
       "    }\n",
       "\n",
       "    .dataframe tbody tr th {\n",
       "        vertical-align: top;\n",
       "    }\n",
       "\n",
       "    .dataframe thead th {\n",
       "        text-align: right;\n",
       "    }\n",
       "</style>\n",
       "<table border=\"1\" class=\"dataframe\">\n",
       "  <thead>\n",
       "    <tr style=\"text-align: right;\">\n",
       "      <th></th>\n",
       "      <th>user_name</th>\n",
       "      <th>tweet</th>\n",
       "      <th>date</th>\n",
       "      <th>label</th>\n",
       "      <th>day_period</th>\n",
       "    </tr>\n",
       "  </thead>\n",
       "  <tbody>\n",
       "    <tr>\n",
       "      <th>0</th>\n",
       "      <td>ttdavit0ri4</td>\n",
       "      <td>se a pila me pagar eu vou no outback amanhã</td>\n",
       "      <td>2022-06-10 02:25:24+00:00</td>\n",
       "      <td>positivo</td>\n",
       "      <td>overnight</td>\n",
       "    </tr>\n",
       "    <tr>\n",
       "      <th>1</th>\n",
       "      <td>vtcamuzzi</td>\n",
       "      <td>queria ir no outback comer o fondue no dia dos...</td>\n",
       "      <td>2022-06-08 15:31:11+00:00</td>\n",
       "      <td>positivo</td>\n",
       "      <td>afternoon</td>\n",
       "    </tr>\n",
       "    <tr>\n",
       "      <th>2</th>\n",
       "      <td>juxtonie</td>\n",
       "      <td>e eu que fui tirar uma foto do novo fondue do ...</td>\n",
       "      <td>2022-06-01 00:31:40+00:00</td>\n",
       "      <td>positivo</td>\n",
       "      <td>overnight</td>\n",
       "    </tr>\n",
       "    <tr>\n",
       "      <th>3</th>\n",
       "      <td>gabigduda</td>\n",
       "      <td>quem vai pagar um chopp no happy hour do outba...</td>\n",
       "      <td>2022-05-13 18:29:12+00:00</td>\n",
       "      <td>positivo</td>\n",
       "      <td>night</td>\n",
       "    </tr>\n",
       "    <tr>\n",
       "      <th>4</th>\n",
       "      <td>lahhhaffz</td>\n",
       "      <td>tô entre “comemorar” no outback, coco bambu ou...</td>\n",
       "      <td>2022-05-02 22:16:49+00:00</td>\n",
       "      <td>positivo</td>\n",
       "      <td>night</td>\n",
       "    </tr>\n",
       "  </tbody>\n",
       "</table>\n",
       "</div>"
      ],
      "text/plain": [
       "     user_name                                              tweet  \\\n",
       "0  ttdavit0ri4        se a pila me pagar eu vou no outback amanhã   \n",
       "1    vtcamuzzi  queria ir no outback comer o fondue no dia dos...   \n",
       "2     juxtonie  e eu que fui tirar uma foto do novo fondue do ...   \n",
       "3    gabigduda  quem vai pagar um chopp no happy hour do outba...   \n",
       "4    lahhhaffz  tô entre “comemorar” no outback, coco bambu ou...   \n",
       "\n",
       "                        date     label day_period  \n",
       "0  2022-06-10 02:25:24+00:00  positivo  overnight  \n",
       "1  2022-06-08 15:31:11+00:00  positivo  afternoon  \n",
       "2  2022-06-01 00:31:40+00:00  positivo  overnight  \n",
       "3  2022-05-13 18:29:12+00:00  positivo      night  \n",
       "4  2022-05-02 22:16:49+00:00  positivo      night  "
      ]
     },
     "execution_count": 16,
     "metadata": {},
     "output_type": "execute_result"
    }
   ],
   "source": [
    "df_positivo.head()"
   ]
  },
  {
   "cell_type": "markdown",
   "id": "8b7dc0a2-4e36-4741-9415-2b83f493c069",
   "metadata": {},
   "source": [
    "### Salvando dados"
   ]
  },
  {
   "cell_type": "code",
   "execution_count": 17,
   "id": "c8c9e599-d6ac-4c48-ab50-d0efd8977372",
   "metadata": {},
   "outputs": [],
   "source": [
    "## Salvando os dados no repositorio definitivo\n",
    "df_positivo.to_csv(\"../data/processed/tweets-positivos.csv\", sep=\"\\t\", index=False)\n",
    "df_negativo.to_csv(\"../data/processed/tweets-negativos.csv\", sep=\"\\t\", index=False)"
   ]
  },
  {
   "cell_type": "code",
   "execution_count": 18,
   "id": "42225669-9021-428f-a7ee-82323c3292bd",
   "metadata": {},
   "outputs": [
    {
     "name": "stdout",
     "output_type": "stream",
     "text": [
      "clean-dataset  docs\t   models     poetry.lock     README.md   src\n",
      "data\t       mkdocs.yml  notebooks  pyproject.toml  references  tasks.py\n"
     ]
    }
   ],
   "source": [
    "!ls ../"
   ]
  },
  {
   "cell_type": "code",
   "execution_count": 19,
   "id": "19cfd3e4-5b37-4531-a640-94958802bbff",
   "metadata": {},
   "outputs": [],
   "source": [
    "# # Salvando os dados no repositorio temporario clean data-set\n",
    "\n",
    "# df_positivo.to_csv(\"../clean-dataset/tweets-positivos.csv\", sep=\"\\t\", index=False)\n",
    "# df_negativo.to_csv(\"../clean-dataset/tweets-negativos.csv\", sep=\"\\t\", index=False)"
   ]
  },
  {
   "attachments": {
    "62c05458-5195-49f7-a3f6-e86de42cf052.png": {
     "image/png": "[encoded data removed]"
    },
    "cf46f703-4fa6-45e4-866c-c2fe770e785d.png": {
     "image/png": "[encoded data removed]"
    }
   },
   "cell_type": "markdown",
   "id": "d284c836-8f75-4536-85d8-ca11998dc765",
   "metadata": {},
   "source": [
    "# ![image.png](attachment:62c05458-5195-49f7-a3f6-e86de42cf052.png) BUSQUEM CONHECIMENTO ![image.png](attachment:cf46f703-4fa6-45e4-866c-c2fe770e785d.png)"
   ]
  }
 ],
 "metadata": {
  "kernelspec": {
   "display_name": "Python 3 (ipykernel)",
   "language": "python",
   "name": "python3"
  },
  "language_info": {
   "codemirror_mode": {
    "name": "ipython",
    "version": 3
   },
   "file_extension": ".py",
   "mimetype": "text/x-python",
   "name": "python",
   "nbconvert_exporter": "python",
   "pygments_lexer": "ipython3",
   "version": "3.8.10"
  }
 },
 "nbformat": 4,
 "nbformat_minor": 5
}

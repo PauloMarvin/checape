{
 "cells": [
  {
   "cell_type": "markdown",
   "id": "d284c836-8f75-4536-85d8-ca11998dc765",
   "metadata": {},
   "source": [
    "# Que a força esteja com vc."
   ]
  },
  {
   "cell_type": "code",
   "execution_count": null,
   "id": "e9d2e102-2716-4d14-8e69-7bd87cbab7e0",
   "metadata": {},
   "outputs": [],
   "source": [
    "import pandas as pd\n",
    "import demoji"
   ]
  },
  {
   "cell_type": "markdown",
   "id": "f1d28c48-5e93-4a05-87e4-2ee064da0e9a",
   "metadata": {},
   "source": [
    "### Funcoes"
   ]
  },
  {
   "cell_type": "code",
   "execution_count": null,
   "id": "c8e7ca27-7455-4b2c-aaf4-ae4248ede709",
   "metadata": {},
   "outputs": [],
   "source": [
    "def limpa_texto(string):\n",
    "    words = string.split()\n",
    "    words = [word for word in words if (\"@\" not in word) and (\"http\" not in word)]\n",
    "    return \" \".join(words)"
   ]
  },
  {
   "cell_type": "markdown",
   "id": "ffa8a395-3f19-4a5c-aeaf-bde668c2ca41",
   "metadata": {},
   "source": [
    "### carregamento de dados"
   ]
  },
  {
   "cell_type": "code",
   "execution_count": null,
   "id": "2b09803f-ce9f-400d-aa8c-dd9950d27885",
   "metadata": {},
   "outputs": [],
   "source": [
    "df_negativo = pd.read_csv(\"data/raw/coleta-negativo-1.csv\",\n",
    "                          delimiter=\"\\t\", on_bad_lines='skip', engine=\"python\")\n",
    "\n",
    "\n",
    "df_positivo = pd.read_csv(\"data/raw/coleta-positivo-1.csv\",\n",
    "                          delimiter=\"\\t\", on_bad_lines='skip', engine=\"python\")"
   ]
  },
  {
   "cell_type": "code",
   "execution_count": null,
   "id": "5c1580ee-96f4-45c9-b7ab-ad98eb8c3938",
   "metadata": {},
   "outputs": [],
   "source": [
    "print(f\"Tweets positivos:{len(df_positivo)}, tweets negativos: {len(df_negativo)}\")"
   ]
  },
  {
   "cell_type": "markdown",
   "id": "235ab62d-26c8-4c7a-9622-86a1ad954177",
   "metadata": {},
   "source": [
    "### remocao de nulls"
   ]
  },
  {
   "cell_type": "code",
   "execution_count": null,
   "id": "d24eab08-6a1f-4b0b-9f85-4c0e24109d7a",
   "metadata": {},
   "outputs": [],
   "source": [
    "df_positivo.dropna(inplace=True)\n",
    "df_negativo.dropna(inplace=True)"
   ]
  },
  {
   "cell_type": "markdown",
   "id": "5ecb83c7-6b5e-487a-b166-60a5bc7a19bf",
   "metadata": {},
   "source": [
    "### remocao de emojis"
   ]
  },
  {
   "cell_type": "code",
   "execution_count": null,
   "id": "a8c7b0da-6930-4305-9209-c7125e33b133",
   "metadata": {},
   "outputs": [],
   "source": [
    "df_negativo[\"tweet\"] = df_negativo[\"tweet\"].apply(lambda x: demoji.replace(x, \" \"))\n",
    "df_positivo[\"tweet\"] = df_positivo[\"tweet\"].apply(lambda x: demoji.replace(x, \" \"))"
   ]
  },
  {
   "cell_type": "markdown",
   "id": "5cba0f49-359d-4272-8936-5ea5c0a8a5c5",
   "metadata": {},
   "source": [
    "### remocao de menções e links"
   ]
  },
  {
   "cell_type": "code",
   "execution_count": null,
   "id": "ce62d9fd-0dc5-4c3d-b8a9-8ca7cd9f6d36",
   "metadata": {},
   "outputs": [],
   "source": [
    "df_negativo[\"tweet\"] = df_negativo[\"tweet\"].apply(lambda x: limpa_texto(x))\n",
    "df_positivo[\"tweet\"] = df_positivo[\"tweet\"].apply(lambda x: limpa_texto(x))"
   ]
  },
  {
   "cell_type": "markdown",
   "id": "8b7dc0a2-4e36-4741-9415-2b83f493c069",
   "metadata": {},
   "source": [
    "### Salvando dados"
   ]
  },
  {
   "cell_type": "code",
   "execution_count": null,
   "id": "c8c9e599-d6ac-4c48-ab50-d0efd8977372",
   "metadata": {},
   "outputs": [],
   "source": [
    "df_positivo.to_csv(\"data/processed/tweets-positivos.csv\", sep=\"\\t\", index=False)\n",
    "df_negativo.to_csv(\"data/processed/tweets-negativos.csv\", sep=\"\\t\", index=False)"
   ]
  }
 ],
 "metadata": {
  "kernelspec": {
   "display_name": "Python 3 (ipykernel)",
   "language": "python",
   "name": "python3"
  },
  "language_info": {
   "codemirror_mode": {
    "name": "ipython",
    "version": 3
   },
   "file_extension": ".py",
   "mimetype": "text/x-python",
   "name": "python",
   "nbconvert_exporter": "python",
   "pygments_lexer": "ipython3",
   "version": "3.8.10"
  }
 },
 "nbformat": 4,
 "nbformat_minor": 5
}
